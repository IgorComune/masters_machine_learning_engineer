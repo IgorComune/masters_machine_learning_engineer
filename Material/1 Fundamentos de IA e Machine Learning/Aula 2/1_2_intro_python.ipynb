{
  "nbformat": 4,
  "nbformat_minor": 0,
  "metadata": {
    "colab": {
      "provenance": []
    },
    "kernelspec": {
      "name": "python3",
      "display_name": "Python 3"
    },
    "language_info": {
      "name": "python"
    }
  },
  "cells": [
    {
      "cell_type": "markdown",
      "source": [
        "# 1. Introdução ao Python"
      ],
      "metadata": {
        "id": "ODEwHb2caBLZ"
      }
    },
    {
      "cell_type": "code",
      "execution_count": 1,
      "metadata": {
        "colab": {
          "base_uri": "https://localhost:8080/"
        },
        "id": "mBlAvz0wY2uh",
        "outputId": "b11f5cb2-95f4-4de9-8562-bdcf1d45518f"
      },
      "outputs": [
        {
          "output_type": "stream",
          "name": "stdout",
          "text": [
            "Hello, World!\n"
          ]
        }
      ],
      "source": [
        "print(\"Hello, World!\")"
      ]
    },
    {
      "cell_type": "code",
      "source": [
        "# Declarando variáveis\n",
        "numero = 42\n",
        "nome = 'João'\n",
        "salario = 2500.50\n",
        "\n",
        "# Imprimindo as variáveis\n",
        "print(numero)\n",
        "print(nome)\n",
        "print(salario)"
      ],
      "metadata": {
        "colab": {
          "base_uri": "https://localhost:8080/"
        },
        "id": "U9qEkjeaZCy4",
        "outputId": "f631f574-4824-4c54-ec1a-575b99fda893"
      },
      "execution_count": 2,
      "outputs": [
        {
          "output_type": "stream",
          "name": "stdout",
          "text": [
            "42\n",
            "João\n",
            "2500.5\n"
          ]
        }
      ]
    },
    {
      "cell_type": "code",
      "source": [
        "# Operações com variáveis\n",
        "a = 10\n",
        "b = 20\n",
        "soma = a + b\n",
        "concatenacao = 'Olá' + ' ' + 'Mundo!'\n",
        "\n",
        "# Imprimindo os resultados\n",
        "print('Soma:', soma)\n",
        "print('Concatenação:', concatenacao)"
      ],
      "metadata": {
        "colab": {
          "base_uri": "https://localhost:8080/"
        },
        "id": "svU___LbZE20",
        "outputId": "8548ee97-fff0-4510-d83d-099570b519c6"
      },
      "execution_count": 3,
      "outputs": [
        {
          "output_type": "stream",
          "name": "stdout",
          "text": [
            "Soma: 30\n",
            "Concatenação: Olá Mundo!\n"
          ]
        }
      ]
    },
    {
      "cell_type": "code",
      "source": [
        "# Definindo uma string\n",
        "frase = 'Python é uma linguagem de programação poderosa'"
      ],
      "metadata": {
        "id": "sTtg6hsqZHXS"
      },
      "execution_count": 4,
      "outputs": []
    },
    {
      "cell_type": "code",
      "source": [
        "# Imprimindo a string\n",
        "print(frase)"
      ],
      "metadata": {
        "colab": {
          "base_uri": "https://localhost:8080/"
        },
        "id": "iyvAr8x2ZJQ-",
        "outputId": "964674d6-6687-4237-c2b0-5bc68f9b96b2"
      },
      "execution_count": 5,
      "outputs": [
        {
          "output_type": "stream",
          "name": "stdout",
          "text": [
            "Python é uma linguagem de programação poderosa\n"
          ]
        }
      ]
    },
    {
      "cell_type": "code",
      "source": [
        "# Tamanho da string\n",
        "tamanho = len(frase)\n",
        "print('Tamanho da string:', tamanho)"
      ],
      "metadata": {
        "colab": {
          "base_uri": "https://localhost:8080/"
        },
        "id": "3i2p92xBZLrg",
        "outputId": "6a404d0b-752e-42b8-8be8-184e65c4bf91"
      },
      "execution_count": 6,
      "outputs": [
        {
          "output_type": "stream",
          "name": "stdout",
          "text": [
            "Tamanho da string: 46\n"
          ]
        }
      ]
    },
    {
      "cell_type": "code",
      "source": [
        "# Transformando em maiúsculas\n",
        "maiusculas = frase.upper()\n",
        "print('Maiúsculas:', maiusculas)"
      ],
      "metadata": {
        "colab": {
          "base_uri": "https://localhost:8080/"
        },
        "id": "sHHtyn7-ZNmk",
        "outputId": "4bfd18bc-f4aa-466a-fd36-7967b651797a"
      },
      "execution_count": 7,
      "outputs": [
        {
          "output_type": "stream",
          "name": "stdout",
          "text": [
            "Maiúsculas: PYTHON É UMA LINGUAGEM DE PROGRAMAÇÃO PODEROSA\n"
          ]
        }
      ]
    },
    {
      "cell_type": "code",
      "source": [
        "# Substituindo palavras na string\n",
        "nova_frase = frase.replace('Python', 'C#')\n",
        "print('Nova frase:', nova_frase)"
      ],
      "metadata": {
        "colab": {
          "base_uri": "https://localhost:8080/"
        },
        "id": "lCCDE_f1ZQGM",
        "outputId": "825bd020-a193-4604-9ae8-c2dee9877c98"
      },
      "execution_count": 8,
      "outputs": [
        {
          "output_type": "stream",
          "name": "stdout",
          "text": [
            "Nova frase: C# é uma linguagem de programação poderosa\n"
          ]
        }
      ]
    },
    {
      "cell_type": "markdown",
      "source": [
        "# 2. Estruturas de Controle"
      ],
      "metadata": {
        "id": "RMDLkrFFaVnf"
      }
    },
    {
      "cell_type": "code",
      "source": [
        "# Exemplo de condicional\n",
        "idade = 20\n",
        "if idade >= 18:\n",
        "    print('Você é maior de idade.')\n",
        "else:\n",
        "    print('Você é menor de idade.')"
      ],
      "metadata": {
        "colab": {
          "base_uri": "https://localhost:8080/"
        },
        "id": "QP7u2UXMZSeB",
        "outputId": "4b7f7de4-a99f-4169-f4f6-ac25bc50bca2"
      },
      "execution_count": 9,
      "outputs": [
        {
          "output_type": "stream",
          "name": "stdout",
          "text": [
            "Você é maior de idade.\n"
          ]
        }
      ]
    },
    {
      "cell_type": "code",
      "source": [
        "# Exemplo de loop for\n",
        "for i in range(5):\n",
        "    print(i)"
      ],
      "metadata": {
        "colab": {
          "base_uri": "https://localhost:8080/"
        },
        "id": "VZYEQ-C8abT9",
        "outputId": "d6098f09-bf1f-41b3-d8a0-821221e93f94"
      },
      "execution_count": 10,
      "outputs": [
        {
          "output_type": "stream",
          "name": "stdout",
          "text": [
            "0\n",
            "1\n",
            "2\n",
            "3\n",
            "4\n"
          ]
        }
      ]
    },
    {
      "cell_type": "code",
      "source": [
        "# Exemplo de loop while\n",
        "while True:\n",
        "    resposta = input('Deseja continuar? (s/n) ')\n",
        "    if resposta.lower() == 'n':\n",
        "        break\n",
        "print('Operação finalizada.')"
      ],
      "metadata": {
        "colab": {
          "base_uri": "https://localhost:8080/"
        },
        "id": "_B6oLA41adCU",
        "outputId": "a17be48f-520e-49c7-d0de-74208d6ef72c"
      },
      "execution_count": 11,
      "outputs": [
        {
          "output_type": "stream",
          "name": "stdout",
          "text": [
            "Deseja continuar? (s/n) n\n",
            "Operação finalizada.\n"
          ]
        }
      ]
    },
    {
      "cell_type": "markdown",
      "source": [
        "# 3. Erros"
      ],
      "metadata": {
        "id": "uF8ZCgRJa72f"
      }
    },
    {
      "cell_type": "code",
      "source": [
        "try:\n",
        "    result = 10 / 0\n",
        "except ZeroDivisionError as e:\n",
        "    print(\"Erro de divisão por zero:\", e)"
      ],
      "metadata": {
        "colab": {
          "base_uri": "https://localhost:8080/"
        },
        "id": "muWwRQKSa51A",
        "outputId": "73edf0ad-03e2-499a-c79b-446923c294e7"
      },
      "execution_count": 12,
      "outputs": [
        {
          "output_type": "stream",
          "name": "stdout",
          "text": [
            "Erro de divisão por zero: division by zero\n"
          ]
        }
      ]
    },
    {
      "cell_type": "code",
      "source": [
        "try:\n",
        "    result = \"10\" + 5\n",
        "except TypeError as e:\n",
        "    print(\"Erro de tipo:\", e)"
      ],
      "metadata": {
        "colab": {
          "base_uri": "https://localhost:8080/"
        },
        "id": "JSW9hE4KbAKS",
        "outputId": "49d2668c-b62a-4992-85ee-c70616f0b9e3"
      },
      "execution_count": 13,
      "outputs": [
        {
          "output_type": "stream",
          "name": "stdout",
          "text": [
            "Erro de tipo: can only concatenate str (not \"int\") to str\n"
          ]
        }
      ]
    },
    {
      "cell_type": "code",
      "source": [
        "try:\n",
        "    print(variavel_inexistente)\n",
        "except NameError as e:\n",
        "    print(\"Erro de nome:\", e)"
      ],
      "metadata": {
        "colab": {
          "base_uri": "https://localhost:8080/"
        },
        "id": "jqgPJ2xUbBqz",
        "outputId": "601ac100-b4b5-4e7e-f27c-a25222f72417"
      },
      "execution_count": 14,
      "outputs": [
        {
          "output_type": "stream",
          "name": "stdout",
          "text": [
            "Erro de nome: name 'variavel_inexistente' is not defined\n"
          ]
        }
      ]
    },
    {
      "cell_type": "code",
      "source": [
        "try:\n",
        "    int(\"abc\")\n",
        "except ValueError as e:\n",
        "    print(\"Erro de valor:\", e)"
      ],
      "metadata": {
        "colab": {
          "base_uri": "https://localhost:8080/"
        },
        "id": "tmm72K2obD1m",
        "outputId": "6ff688a7-379e-41f4-8dc7-2b138c193325"
      },
      "execution_count": 15,
      "outputs": [
        {
          "output_type": "stream",
          "name": "stdout",
          "text": [
            "Erro de valor: invalid literal for int() with base 10: 'abc'\n"
          ]
        }
      ]
    },
    {
      "cell_type": "code",
      "source": [
        "try:\n",
        "    my_list = [1, 2, 3]\n",
        "    print(my_list[4])\n",
        "except IndexError as e:\n",
        "    print(\"Erro de índice:\", e)"
      ],
      "metadata": {
        "colab": {
          "base_uri": "https://localhost:8080/"
        },
        "id": "d4ICySMibF_6",
        "outputId": "929f00c5-7cf0-455a-8eaa-6f68721e019c"
      },
      "execution_count": 16,
      "outputs": [
        {
          "output_type": "stream",
          "name": "stdout",
          "text": [
            "Erro de índice: list index out of range\n"
          ]
        }
      ]
    },
    {
      "cell_type": "code",
      "source": [
        "try:\n",
        "    my_dict = {\"key\": \"value\"}\n",
        "    print(my_dict[\"invalid_key\"])\n",
        "except KeyError as e:\n",
        "    print(\"Erro de chave:\", e)"
      ],
      "metadata": {
        "colab": {
          "base_uri": "https://localhost:8080/"
        },
        "id": "OqGpF2A9bHXY",
        "outputId": "ed433e31-57b6-48ed-f2d0-65c0f3ced92b"
      },
      "execution_count": 17,
      "outputs": [
        {
          "output_type": "stream",
          "name": "stdout",
          "text": [
            "Erro de chave: 'invalid_key'\n"
          ]
        }
      ]
    },
    {
      "cell_type": "code",
      "source": [
        "try:\n",
        "    with open(\"arquivo_inexistente.txt\", \"r\") as file:\n",
        "        content = file.read()\n",
        "except FileNotFoundError as e:\n",
        "    print(\"Erro de arquivo não encontrado:\", e)"
      ],
      "metadata": {
        "colab": {
          "base_uri": "https://localhost:8080/"
        },
        "id": "2nnuS1_cbI-M",
        "outputId": "802903f0-248e-4223-ddd8-862416d83fe0"
      },
      "execution_count": 18,
      "outputs": [
        {
          "output_type": "stream",
          "name": "stdout",
          "text": [
            "Erro de arquivo não encontrado: [Errno 2] No such file or directory: 'arquivo_inexistente.txt'\n"
          ]
        }
      ]
    },
    {
      "cell_type": "code",
      "source": [
        "try:\n",
        "    import modulo_inexistente\n",
        "except ImportError as e:\n",
        "    print(\"Erro de importação:\", e)"
      ],
      "metadata": {
        "colab": {
          "base_uri": "https://localhost:8080/"
        },
        "id": "BX6JYQLfbLVs",
        "outputId": "78077882-a515-4ea2-a609-041a9236a445"
      },
      "execution_count": 19,
      "outputs": [
        {
          "output_type": "stream",
          "name": "stdout",
          "text": [
            "Erro de importação: No module named 'modulo_inexistente'\n"
          ]
        }
      ]
    },
    {
      "cell_type": "code",
      "source": [
        "class Exemplo:\n",
        "    def __init__(self):\n",
        "        self.atributo = \"valor\"\n",
        "\n",
        "try:\n",
        "    obj = Exemplo()\n",
        "    print(obj.atributo_inexistente)\n",
        "except AttributeError as e:\n",
        "    print(\"Erro de atributo:\", e)\n"
      ],
      "metadata": {
        "colab": {
          "base_uri": "https://localhost:8080/"
        },
        "id": "B8twGmiJbMz1",
        "outputId": "0f9822da-da84-4640-b368-89c16fbe9bee"
      },
      "execution_count": 20,
      "outputs": [
        {
          "output_type": "stream",
          "name": "stdout",
          "text": [
            "Erro de atributo: 'Exemplo' object has no attribute 'atributo_inexistente'\n"
          ]
        }
      ]
    },
    {
      "cell_type": "markdown",
      "source": [
        "# 4. Funções"
      ],
      "metadata": {
        "id": "Ru4VZ7I5bPkM"
      }
    },
    {
      "cell_type": "code",
      "source": [
        "# Definindo uma função simples\n",
        "def saudacao():\n",
        "    print('Olá, Mundo!')"
      ],
      "metadata": {
        "id": "_CJjO3e3bOZI"
      },
      "execution_count": 21,
      "outputs": []
    },
    {
      "cell_type": "code",
      "source": [
        "# Chamando a função\n",
        "saudacao()"
      ],
      "metadata": {
        "colab": {
          "base_uri": "https://localhost:8080/"
        },
        "id": "nWSJ-vRSbWXr",
        "outputId": "9f1ca0ad-317f-4983-c299-bc30f9363ad3"
      },
      "execution_count": 22,
      "outputs": [
        {
          "output_type": "stream",
          "name": "stdout",
          "text": [
            "Olá, Mundo!\n"
          ]
        }
      ]
    },
    {
      "cell_type": "code",
      "source": [
        "# Função com parâmetros\n",
        "def saudacao(nome):\n",
        "    print(f'Olá, {nome}!')"
      ],
      "metadata": {
        "id": "iRlWcy92bXeb"
      },
      "execution_count": 23,
      "outputs": []
    },
    {
      "cell_type": "code",
      "source": [
        "# Chamando a função com um argumento\n",
        "saudacao('João')"
      ],
      "metadata": {
        "colab": {
          "base_uri": "https://localhost:8080/"
        },
        "id": "CWrPPLzabYzk",
        "outputId": "1d78d0f3-51e1-43d0-b508-98ea301befa6"
      },
      "execution_count": 24,
      "outputs": [
        {
          "output_type": "stream",
          "name": "stdout",
          "text": [
            "Olá, João!\n"
          ]
        }
      ]
    },
    {
      "cell_type": "code",
      "source": [
        "# Função com retorno\n",
        "def saudacao(nome):\n",
        "    return f'Olá, {nome}!'"
      ],
      "metadata": {
        "id": "jFsH9HJvbZ7D"
      },
      "execution_count": 25,
      "outputs": []
    },
    {
      "cell_type": "code",
      "source": [
        "# Armazenando o valor retornado\n",
        "mensagem = saudacao('Maria')\n",
        "print(mensagem)"
      ],
      "metadata": {
        "colab": {
          "base_uri": "https://localhost:8080/"
        },
        "id": "ajhifdDFbbXb",
        "outputId": "959fbfd2-c1ee-447a-fd71-85542220e67b"
      },
      "execution_count": 26,
      "outputs": [
        {
          "output_type": "stream",
          "name": "stdout",
          "text": [
            "Olá, Maria!\n"
          ]
        }
      ]
    },
    {
      "cell_type": "code",
      "source": [
        "# Função com múltiplos parâmetros\n",
        "def soma(a, b):\n",
        "    return a + b"
      ],
      "metadata": {
        "id": "5JTqxBNcbc6x"
      },
      "execution_count": 27,
      "outputs": []
    },
    {
      "cell_type": "code",
      "source": [
        "# Chamando a função com múltiplos argumentos\n",
        "resultado = soma(10, 5)\n",
        "print(resultado)"
      ],
      "metadata": {
        "colab": {
          "base_uri": "https://localhost:8080/"
        },
        "id": "m_Pl4w5KbeRc",
        "outputId": "6c5cb3b5-c302-4b51-b9bc-0eb11980166c"
      },
      "execution_count": 28,
      "outputs": [
        {
          "output_type": "stream",
          "name": "stdout",
          "text": [
            "15\n"
          ]
        }
      ]
    },
    {
      "cell_type": "markdown",
      "source": [
        "# 5. Compressão de Listas"
      ],
      "metadata": {
        "id": "tQZtBUItcJZH"
      }
    },
    {
      "cell_type": "code",
      "source": [
        "quadrados = [x ** 2 for x in range(10)]\n",
        "print(quadrados)  # [0, 1, 4, 9, 16, 25, 36, 49, 64, 81]"
      ],
      "metadata": {
        "colab": {
          "base_uri": "https://localhost:8080/"
        },
        "id": "O7ITNgbebfZU",
        "outputId": "5636096f-1f20-4287-b1bf-337b77eb38d1"
      },
      "execution_count": 29,
      "outputs": [
        {
          "output_type": "stream",
          "name": "stdout",
          "text": [
            "[0, 1, 4, 9, 16, 25, 36, 49, 64, 81]\n"
          ]
        }
      ]
    },
    {
      "cell_type": "markdown",
      "source": [
        "# 6. Decoradores"
      ],
      "metadata": {
        "id": "wuwaFRNfcS7n"
      }
    },
    {
      "cell_type": "code",
      "source": [
        "def decorador_saudacao(func):\n",
        "    def wrapper(*args, **kwargs):\n",
        "        print(\"Saudação!\")\n",
        "        return func(*args, **kwargs)\n",
        "    return wrapper\n",
        "\n",
        "@decorador_saudacao\n",
        "def ola(nome):\n",
        "    print(f\"Olá, {nome}!\")\n",
        "\n",
        "ola(\"Mundo\")  # Saudação! Olá, Mundo!"
      ],
      "metadata": {
        "colab": {
          "base_uri": "https://localhost:8080/"
        },
        "id": "VWQ76wM-cUP8",
        "outputId": "069af57d-9119-446a-aebb-86721e819c92"
      },
      "execution_count": 30,
      "outputs": [
        {
          "output_type": "stream",
          "name": "stdout",
          "text": [
            "Saudação!\n",
            "Olá, Mundo!\n"
          ]
        }
      ]
    },
    {
      "cell_type": "markdown",
      "source": [
        "# 7. Context Managers"
      ],
      "metadata": {
        "id": "ADROIeO-chJn"
      }
    },
    {
      "cell_type": "code",
      "source": [
        "class GerenciadorDeContexto:\n",
        "    def __enter__(self):\n",
        "        print(\"Entrando no contexto.\")\n",
        "        return self\n",
        "\n",
        "    def __exit__(self, exc_type, exc_value, traceback):\n",
        "        print(\"Saindo do contexto.\")\n",
        "\n",
        "with GerenciadorDeContexto():\n",
        "    print(\"Dentro do bloco with.\")"
      ],
      "metadata": {
        "colab": {
          "base_uri": "https://localhost:8080/"
        },
        "id": "v1pBG0LTcWCI",
        "outputId": "42b76b78-baad-47d4-e8d1-5d2972cc229c"
      },
      "execution_count": 31,
      "outputs": [
        {
          "output_type": "stream",
          "name": "stdout",
          "text": [
            "Entrando no contexto.\n",
            "Dentro do bloco with.\n",
            "Saindo do contexto.\n"
          ]
        }
      ]
    },
    {
      "cell_type": "code",
      "source": [],
      "metadata": {
        "id": "zJi7eUbGcpjd"
      },
      "execution_count": null,
      "outputs": []
    }
  ]
}