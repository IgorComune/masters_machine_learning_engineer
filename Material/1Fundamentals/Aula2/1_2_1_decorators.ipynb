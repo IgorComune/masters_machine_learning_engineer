{
  "cells": [
    {
      "cell_type": "markdown",
      "metadata": {
        "id": "NH-4kMbNg5Wv"
      },
      "source": [
        "prompt no chatgpt: chatgpt, crie um \"mini curso\" bem detalhado sobre decoradores em python, tanto a parte teorica quanto pedaços de codigo para eu copiar e colar no google colab e entender, e no final crie 3 exercicios do mais facil para o mais avançado\n",
        "__________________________________________________________________\n",
        "\n",
        "\n",
        "---\n",
        "\n",
        "\n",
        "\n",
        "---\n",
        "\n"
      ]
    },
    {
      "cell_type": "markdown",
      "metadata": {
        "id": "SI-bd6Ntf_Bx"
      },
      "source": [
        "💌 Mini Curso: Decoradores em Python\n",
        "\n",
        "1. Introdução aos DecoradoresO que são decoradores?Decoradores em Python são uma maneira de modificar ou estender o comportamento de funções ou métodos sem alterar seu código-fonte diretamente.\n",
        "Eles são amplamente utilizados para:\n",
        "Adicionar funcionalidades extras (ex.: logging, autenticação, controle de acesso, etc.).\n",
        "Evitar código repetitivo.\n",
        "Aplicar modificações de forma elegante e reutilizável.\n",
        "Como funcionam?Decoradores são implementados como funções que recebem outra função como argumento, modificam ou envolvem essa função e retornam uma nova função.\n",
        "\n",
        "2. Funções em Python são objetos de primeira classeAntes de entendermos decoradores, precisamos lembrar que funções em Python são objetos de primeira classe, ou seja:\n",
        "Elas podem ser atribuídas a variáveis.\n",
        "Podem ser passadas como argumentos para outras funções.\n",
        "Podem ser retornadas por outras funções.\n",
        "\n",
        "📚 Exemplo 1: Funções como objetos"
      ]
    },
    {
      "cell_type": "code",
      "execution_count": 1,
      "metadata": {
        "colab": {
          "base_uri": "https://localhost:8080/"
        },
        "id": "YbK4WmVMf5wE",
        "outputId": "672afa91-7e50-4e7b-a5b6-0394fa1e0972"
      },
      "outputs": [
        {
          "name": "stdout",
          "output_type": "stream",
          "text": [
            "Olá, bem-vindo!\n"
          ]
        }
      ],
      "source": [
        "def cumprimentar():\n",
        "    return \"Olá, bem-vindo!\"\n",
        "\n",
        "# Atribuindo a função a uma variável\n",
        "saudacao = cumprimentar\n",
        "print(saudacao())  # Saída: Olá, bem-vindo!\n"
      ]
    },
    {
      "cell_type": "markdown",
      "metadata": {
        "id": "QzvBiYaygyQH"
      },
      "source": [
        "3. Funções Aninhadas\n",
        "\n",
        "Podemos definir uma função dentro de outra e chamá-la de dentro da função principal.\n",
        "\n",
        "📚 Exemplo 2: Função dentro de função"
      ]
    },
    {
      "cell_type": "code",
      "execution_count": null,
      "metadata": {
        "colab": {
          "base_uri": "https://localhost:8080/"
        },
        "id": "XvLel5U_gah4",
        "outputId": "0193d3d6-e14a-4724-8c80-6dbb1d37aa0b"
      },
      "outputs": [
        {
          "name": "stdout",
          "output_type": "stream",
          "text": [
            "Função externa!\n",
            "Função interna!\n"
          ]
        }
      ],
      "source": [
        "def externa():\n",
        "    print(\"Função externa!\")\n",
        "\n",
        "    def interna():\n",
        "        print(\"Função interna!\")\n",
        "\n",
        "    interna()  # Chamando a função interna\n",
        "\n",
        "externa()"
      ]
    },
    {
      "cell_type": "markdown",
      "metadata": {
        "id": "lcZzYVsChJDu"
      },
      "source": [
        "4. Criando um Decorador Simples\n",
        "\n",
        "Agora vamos criar nosso primeiro decorador! Um decorador é basicamente uma função que recebe outra função como argumento.\n",
        "\n",
        "📚 Exemplo 3: Criando um decorador"
      ]
    },
    {
      "cell_type": "code",
      "execution_count": null,
      "metadata": {
        "colab": {
          "base_uri": "https://localhost:8080/"
        },
        "id": "jPjs0oxBg4R7",
        "outputId": "17bfc02f-570c-44f4-8820-7880eadc1d60"
      },
      "outputs": [
        {
          "name": "stdout",
          "output_type": "stream",
          "text": [
            "Executando algo antes da função...\n",
            "Executando a função principal!\n",
            "Executando algo depois da função...\n"
          ]
        }
      ],
      "source": [
        "def meu_decorador(func):\n",
        "    def wrapper():\n",
        "        print(\"Executando algo antes da função...\")\n",
        "        func()\n",
        "        print(\"Executando algo depois da função...\")\n",
        "\n",
        "    return wrapper\n",
        "\n",
        "@meu_decorador\n",
        "def minha_funcao():\n",
        "    print(\"Executando a função principal!\")\n",
        "\n",
        "minha_funcao()\n",
        "\n",
        "# é a mesma coisa que\n",
        "# minha_funcao = meu_decorador(minha_funcao)\n",
        "# minha_funcao\n"
      ]
    },
    {
      "cell_type": "code",
      "execution_count": 9,
      "metadata": {
        "id": "0J9BLKXkh7Dm"
      },
      "outputs": [],
      "source": [
        "minha_funcao = meu_decorador(minha_funcao)"
      ]
    },
    {
      "cell_type": "code",
      "execution_count": 10,
      "metadata": {
        "colab": {
          "base_uri": "https://localhost:8080/"
        },
        "id": "7HFBLUJMiEGp",
        "outputId": "0f28c3cf-8077-4d86-c9a1-dcc87040aa37"
      },
      "outputs": [
        {
          "name": "stdout",
          "output_type": "stream",
          "text": [
            "Executando algo antes da função...\n",
            "Executando algo antes da função...\n",
            "Executando algo antes da função...\n",
            "Executando a função principal!\n",
            "Executando algo depois da função...\n",
            "Executando algo depois da função...\n",
            "Executando algo depois da função...\n"
          ]
        }
      ],
      "source": [
        "minha_funcao()"
      ]
    },
    {
      "cell_type": "markdown",
      "metadata": {
        "id": "KFk1iJU7ibiD"
      },
      "source": [
        "5. Decoradores com Argumentos\n",
        "\n",
        "Se a função original tiver parâmetros, precisamos garantir que o decorador os aceite.\n",
        "\n",
        "📚 Exemplo 4: Decorador que aceita argumentos"
      ]
    },
    {
      "cell_type": "code",
      "execution_count": null,
      "metadata": {
        "colab": {
          "base_uri": "https://localhost:8080/"
        },
        "id": "NguTwG9viFGO",
        "outputId": "6d3169cc-690e-4ac9-e8d1-8be6e9e91491"
      },
      "outputs": [
        {
          "name": "stdout",
          "output_type": "stream",
          "text": [
            "Chamando função soma com argumentos (3, 5), {}\n",
            "Resultado da soma: 8\n"
          ]
        }
      ],
      "source": [
        "def decorador_com_args(func):\n",
        "    def wrapper(*args, **kwargs):\n",
        "        print(f\"Chamando função {func.__name__} com argumentos {args}, {kwargs}\")\n",
        "        return func(*args, **kwargs)\n",
        "\n",
        "    return wrapper\n",
        "\n",
        "@decorador_com_args\n",
        "def soma(a, b):\n",
        "    return a + b\n",
        "\n",
        "resultado = soma(3, 5)\n",
        "print(f\"Resultado da soma: {resultado}\")"
      ]
    },
    {
      "cell_type": "markdown",
      "metadata": {
        "id": "_1Aqd2yQjKFh"
      },
      "source": [
        "\n",
        "\n",
        "---\n",
        "\n",
        "---\n",
        "\n",
        "\n",
        "\n",
        "\n",
        "\n",
        "---\n",
        "\n"
      ]
    },
    {
      "cell_type": "markdown",
      "metadata": {
        "id": "wxwfUp2LjMAp"
      },
      "source": [
        "6. Exercícios\n",
        "\n",
        "Exercício 1\n",
        "\n",
        "Crie um decorador chamado antes_depois que imprima --- Começo --- antes da execução de uma função e --- Fim --- depois."
      ]
    },
    {
      "cell_type": "code",
      "execution_count": null,
      "metadata": {
        "colab": {
          "base_uri": "https://localhost:8080/"
        },
        "id": "rFnIFWorig7A",
        "outputId": "7b32b2e5-200a-4a10-d5c9-c89ba76004a8"
      },
      "outputs": [
        {
          "name": "stdout",
          "output_type": "stream",
          "text": [
            "--- Começo ---\n",
            "Olá, mundo!\n",
            "--- Fim ---\n"
          ]
        }
      ],
      "source": [
        "def antes_depois(func):\n",
        "  def wrapper():\n",
        "    print('--- Começo ---')\n",
        "    func()\n",
        "    print('--- Fim ---')\n",
        "\n",
        "  return wrapper\n",
        "\n",
        "@antes_depois\n",
        "def ola():\n",
        "    print(\"Olá, mundo!\")\n",
        "\n",
        "ola()"
      ]
    },
    {
      "cell_type": "markdown",
      "metadata": {
        "id": "34msiVKEj87e"
      },
      "source": [
        "Exercício 2 (Intermediário)\n",
        "\n",
        "Crie um decorador medir_tempo que meça o tempo de execução de uma função."
      ]
    },
    {
      "cell_type": "code",
      "execution_count": 22,
      "metadata": {
        "colab": {
          "base_uri": "https://localhost:8080/"
        },
        "id": "mBqTbhAKjvDM",
        "outputId": "01286bdd-972d-4b8d-dc0a-b70f59da3110"
      },
      "outputs": [
        {
          "name": "stdout",
          "output_type": "stream",
          "text": [
            "Processamento concluído!\n",
            "Tempo de execução: 2.00 segundos\n"
          ]
        }
      ],
      "source": [
        "def medir_tempo(func):\n",
        "    def wrapper(*args, **kwargs):\n",
        "        import time\n",
        "        start_time = time.time()\n",
        "        result = func(*args, **kwargs)  # Executa a função original e guarda o retorno\n",
        "        end_time = time.time()\n",
        "        execution_time = end_time - start_time\n",
        "        print(f\"Tempo de execução: {execution_time:.2f} segundos\")\n",
        "        return result  # Retorna o resultado da função original\n",
        "\n",
        "    return wrapper\n",
        "\n",
        "\n",
        "@medir_tempo\n",
        "def processar():\n",
        "    import time\n",
        "    time.sleep(2)  # Simulando processamento\n",
        "    print(\"Processamento concluído!\")\n",
        "\n",
        "processar()\n"
      ]
    },
    {
      "cell_type": "code",
      "execution_count": null,
      "metadata": {
        "colab": {
          "base_uri": "https://localhost:8080/"
        },
        "id": "N2OMhUiHkUtr",
        "outputId": "9ca06ae6-00fb-4984-be42-fe92f3c2b163"
      },
      "outputs": [
        {
          "name": "stdout",
          "output_type": "stream",
          "text": [
            "erro\n"
          ]
        }
      ],
      "source": [
        "\n",
        "def meu_decorador(func):\n",
        "  def wrapper():\n",
        "      print(\"Executando antes da função...\")\n",
        "      func()  # ERRO se a função precisar de argumentos!\n",
        "      print(\"Executando depois da função...\")\n",
        "  return wrapper\n",
        "\n",
        "@meu_decorador\n",
        "def soma(a, b):\n",
        "    return a + b\n",
        "\n",
        "print(soma(3, 5))  # ERRO!\n",
        "\n",
        "except:\n",
        "print('erro')\n"
      ]
    },
    {
      "cell_type": "code",
      "execution_count": 28,
      "metadata": {
        "colab": {
          "base_uri": "https://localhost:8080/"
        },
        "id": "EHD15USTmFoE",
        "outputId": "8fbf96f5-1b55-4380-dc2a-8d21d9233eff"
      },
      "outputs": [
        {
          "name": "stdout",
          "output_type": "stream",
          "text": [
            "Executando antes da função...\n",
            "8\n",
            "Executando depois da função...\n"
          ]
        }
      ],
      "source": [
        "try:\n",
        "  def meu_decorador(func):\n",
        "      def wrapper(*args, **kwargs):\n",
        "          print(\"Executando antes da função...\")\n",
        "          resultado = func(*args, **kwargs)  # Agora pode aceitar qualquer argumento!\n",
        "          print(resultado)\n",
        "          print(\"Executando depois da função...\")\n",
        "          return resultado  # Mantém o retorno da função original\n",
        "      return wrapper\n",
        "\n",
        "  @meu_decorador\n",
        "  def soma(a, b):\n",
        "      return a + b\n",
        "\n",
        "  soma(3, 5)  # Agora funciona!\n",
        "\n",
        "except:\n",
        "  print('erro')"
      ]
    },
    {
      "cell_type": "markdown",
      "metadata": {
        "id": "WC8Up3Wmmr0e"
      },
      "source": [
        "Exercício 3 (Avançado)\n",
        "\n",
        "Crie um decorador autenticacao que só permita a execução de uma função se o usuário tiver autorização."
      ]
    },
    {
      "cell_type": "code",
      "execution_count": 33,
      "metadata": {
        "colab": {
          "base_uri": "https://localhost:8080/"
        },
        "id": "zNqdblbFmRVj",
        "outputId": "030a9fa1-d6fe-4610-9ec9-1278fc6d757c"
      },
      "outputs": [
        {
          "name": "stdout",
          "output_type": "stream",
          "text": [
            "Você tem autorização? (s/n): s\n",
            "Acesso concedido!\n"
          ]
        }
      ],
      "source": [
        "def autenticacao(func):\n",
        "    def wrapper(*args, **kwargs):\n",
        "        # Solicitar autorização do usuário\n",
        "        autorizado = input(\"Você tem autorização? (s/n): \").strip().lower() == 's'\n",
        "        if autorizado:\n",
        "            return func(*args, **kwargs)\n",
        "        else:\n",
        "            print(\"Acesso negado!\")\n",
        "\n",
        "    return wrapper\n",
        "\n",
        "@autenticacao\n",
        "def acessar_recurso():\n",
        "    print(\"Acesso concedido!\")\n",
        "\n",
        "acessar_recurso()  # Só pode executar se o usuário for autorizado\n"
      ]
    },
    {
      "cell_type": "code",
      "execution_count": null,
      "metadata": {
        "id": "yd8fMvT9nEWx"
      },
      "outputs": [],
      "source": []
    }
  ],
  "metadata": {
    "colab": {
      "provenance": []
    },
    "kernelspec": {
      "display_name": "Python 3",
      "name": "python3"
    },
    "language_info": {
      "name": "python"
    }
  },
  "nbformat": 4,
  "nbformat_minor": 0
}
